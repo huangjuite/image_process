{
 "metadata": {
  "language_info": {
   "codemirror_mode": {
    "name": "ipython",
    "version": 3
   },
   "file_extension": ".py",
   "mimetype": "text/x-python",
   "name": "python",
   "nbconvert_exporter": "python",
   "pygments_lexer": "ipython3",
   "version": "3.6.9-final"
  },
  "orig_nbformat": 2,
  "kernelspec": {
   "name": "python3",
   "display_name": "Python 3",
   "language": "python"
  }
 },
 "nbformat": 4,
 "nbformat_minor": 2,
 "cells": [
  {
   "cell_type": "code",
   "execution_count": 1,
   "metadata": {},
   "outputs": [],
   "source": [
    "import numpy as np\n",
    "import matplotlib.pyplot as plt\n",
    "import cv2\n",
    "import math\n",
    "import pandas as pd\n",
    "import copy"
   ]
  },
  {
   "cell_type": "code",
   "execution_count": 2,
   "metadata": {},
   "outputs": [],
   "source": [
    "def get_kernel(sigma):\n",
    "    size = int(2*(np.ceil(3*sigma))+1)\n",
    "    x, y = np.meshgrid(np.arange(-size/2+1, size/2+1),\n",
    "                       np.arange(-size/2+1, size/2+1))\n",
    "    normal = 1 / (2.0 * np.pi * sigma**2)\n",
    "    kernel = ((x**2 + y**2 - (2.0*sigma**2)) / sigma**4) * \\\n",
    "        np.exp(-(x**2+y**2) / (2.0*sigma**2)) / normal\n",
    "    \n",
    "    return kernel\n"
   ]
  },
  {
   "cell_type": "code",
   "execution_count": 3,
   "metadata": {},
   "outputs": [],
   "source": [
    "def convolution(img, ker, padding=2):\n",
    "    m, n = ker.shape\n",
    "    y, x = img.shape\n",
    "    # padding\n",
    "    pad_img = np.zeros((y+padding*2, x+padding*2))\n",
    "    pad_img[padding:-padding, padding:-padding] = img\n",
    "\n",
    "    new_img = np.zeros((y, x))\n",
    "    for i in range(y):\n",
    "        for j in range(x):\n",
    "            new_img[i][j] = np.sum(pad_img[i:i+m, j:j+n] * ker)\n",
    "    return new_img"
   ]
  },
  {
   "cell_type": "code",
   "execution_count": 4,
   "metadata": {},
   "outputs": [],
   "source": [
    "def zero_crossing(img, padding=1, thres_hold=0):\n",
    "    y, x = img.shape\n",
    "    # padding\n",
    "    pad_img = np.zeros((y+padding*2, x+padding*2))\n",
    "    pad_img[padding:-padding, padding:-padding] = img\n",
    "    thres = thres_hold*(np.max(pad_img)-np.min(pad_img))\n",
    "\n",
    "    new_img = np.zeros((y, x))\n",
    "    for i in range(y):\n",
    "        for j in range(x):\n",
    "\n",
    "            # left/right\n",
    "            if pad_img[i-1][j]*pad_img[i+1][j] < 0 and \\\n",
    "                    abs(pad_img[i-1][j]-pad_img[i+1][j]) > thres:\n",
    "                new_img[i][j] = 1\n",
    "                continue\n",
    "\n",
    "            # up/down\n",
    "            if pad_img[i][j-1]*pad_img[i][j+1] < 0 and \\\n",
    "                    abs(pad_img[i][j-1]-pad_img[i][j+1]) > thres:\n",
    "                new_img[i][j] = 1\n",
    "                continue\n",
    "\n",
    "            # left diagonals\n",
    "            if pad_img[i-1][j-1]*pad_img[i+1][j+1] < 0 and \\\n",
    "                    abs(pad_img[i-1][j-1]-pad_img[i+1][j+1]) > thres:\n",
    "                new_img[i][j] = 1\n",
    "                continue\n",
    "\n",
    "            # right diagonals\n",
    "            if pad_img[i-1][j+1]*pad_img[i-1][j+1] < 0 and \\\n",
    "                    abs(pad_img[i-1][j+1]-pad_img[i-1][j+1]) > thres:\n",
    "                new_img[i][j] = 1\n",
    "                continue\n",
    "\n",
    "    return new_img"
   ]
  },
  {
   "cell_type": "code",
   "execution_count": 5,
   "metadata": {},
   "outputs": [],
   "source": [
    "def hough_line(edge):\n",
    "    theta = np.arange(0, 180, 1)\n",
    "    cos = np.cos(np.deg2rad(theta))\n",
    "    sin = np.sin(np.deg2rad(theta))\n",
    "\n",
    "    rho_range = round(math.sqrt(edge.shape[0]**2 + edge.shape[1]**2))\n",
    "    accumulator = np.zeros((2 * rho_range, len(theta)),  dtype=np.uint8)\n",
    "\n",
    "    edge_pixels = np.where(edge == 1)\n",
    "    coordinates = list(zip(edge_pixels[0], edge_pixels[1]))\n",
    "\n",
    "    for p in range(len(coordinates)):\n",
    "        for t in range(len(theta)):\n",
    "            rho = int(round(coordinates[p][1] * cos[t] + coordinates[p][0] * sin[t]))\n",
    "            accumulator[rho, t] += 1\n",
    "\n",
    "    return accumulator"
   ]
  },
  {
   "cell_type": "code",
   "execution_count": 6,
   "metadata": {},
   "outputs": [],
   "source": [
    "def parameter_space_to_image(pr_space):\n",
    "    param_img = (pr_space.astype(np.float)/np.max(pr_space))*255\n",
    "    tmp1, tmp2 = param_img[:param_img.shape[0]//2], param_img[param_img.shape[0]//2:]\n",
    "    param_img = np.vstack((tmp2,tmp1))\n",
    "    param_img = np.fliplr(param_img)\n",
    "    param_img = cv2.resize(param_img,(1200,1200))\n",
    "    return param_img"
   ]
  },
  {
   "cell_type": "code",
   "execution_count": 7,
   "metadata": {},
   "outputs": [
    {
     "output_type": "execute_result",
     "data": {
      "text/plain": [
       "True"
      ]
     },
     "metadata": {},
     "execution_count": 7
    }
   ],
   "source": [
    "# read image\n",
    "img = plt.imread('Car On Mountain Road.tif')\n",
    "img = np.float32(img)/255.0\n",
    "\n",
    "log_kernel = get_kernel(sigma=4)\n",
    "\n",
    "LoG = convolution(img, log_kernel, padding=log_kernel.shape[0]//2)\n",
    "LoG_norm = (LoG-np.min(LoG))/(np.max(LoG)-np.min(LoG))\n",
    "cv2.imwrite('LoG.png', (LoG_norm*255))\n",
    "\n",
    "log_0_percent = zero_crossing(LoG, thres_hold=0)\n",
    "cv2.imwrite('log_0_percent.png', (log_0_percent*255))\n",
    "\n",
    "log_4_percent = zero_crossing(LoG, thres_hold=0.04)\n",
    "cv2.imwrite('log_4_percent.png', (log_4_percent*255))"
   ]
  },
  {
   "source": [
    "parameter_space = hough_line(log_4_percent)\n",
    "param_img = parameter_space_to_image(parameter_space)\n"
   ],
   "cell_type": "code",
   "metadata": {},
   "execution_count": 21,
   "outputs": []
  },
  {
   "cell_type": "code",
   "execution_count": 23,
   "metadata": {},
   "outputs": [
    {
     "output_type": "execute_result",
     "data": {
      "text/plain": [
       "True"
      ]
     },
     "metadata": {},
     "execution_count": 23
    }
   ],
   "source": [
    "new_img = copy.deepcopy(img)\n",
    "mask = np.zeros(new_img.shape)\n",
    "new_img = cv2.cvtColor(new_img, cv2.COLOR_GRAY2RGB)\n",
    "color_param_img = cv2.cvtColor(param_img.astype(np.float32), cv2.COLOR_GRAY2RGB)\n",
    "blank_img = np.ones(new_img.shape)\n",
    "\n",
    "# license plate cordinate\n",
    "coordinates = [\n",
    "    (157, 395),\n",
    "    (155, 415),\n",
    "    (250, 400),\n",
    "    (248, 420),\n",
    "]\n",
    "\n",
    "for p in coordinates:\n",
    "    mask[p[1], p[0]] = 1\n",
    "mask_parameter_sapce = hough_line(mask)\n",
    "mask_param_image = parameter_space_to_image(mask_parameter_sapce)\n",
    "edge_pixels = np.where(mask_parameter_sapce >=2)\n",
    "position = list(zip(edge_pixels[0], edge_pixels[1]))\n",
    "\n",
    "for i in range(0, len(position)):\n",
    "    a = np.cos(np.deg2rad(position[i][1]))\n",
    "    b = np.sin(np.deg2rad(position[i][1]))\n",
    "    x0 = a*position[i][0]\n",
    "    y0 = b*position[i][0]\n",
    "    x1 = int(x0 + 1000*(-b))\n",
    "    y1 = int(y0 + 1000*(a))\n",
    "    x2 = int(x0 - 1000*(-b))\n",
    "    y2 = int(y0 - 1000*(a))\n",
    "    \n",
    "    start_point = (position[i][1]-5, position[i][0]-5)\n",
    "    end_point = (position[i][1]+5, position[i][0]+5)\n",
    "    cv2.rectangle(color_param_img, start_point, end_point, (1,0,0), 2)\n",
    "    cv2.line(new_img,(x1,y1),(x2,y2),(1,0,0),1)\n",
    "    cv2.line(blank_img,(x1,y1),(x2,y2),(1,0,0),1)\n",
    "\n",
    "cv2.imwrite('new_img.png', (new_img*255))\n",
    "cv2.imwrite('blank_img.png', (blank_img*255))\n",
    "cv2.imwrite('parameter_space.png', color_param_img)"
   ]
  }
 ]
}